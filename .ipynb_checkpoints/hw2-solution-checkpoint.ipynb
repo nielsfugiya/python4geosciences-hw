{
 "cells": [
  {
   "cell_type": "code",
   "execution_count": 1,
   "metadata": {
    "collapsed": true
   },
   "outputs": [],
   "source": [
    "d={'name':'Jianing', 'hometown':'Mukden','department':'ATMO','status':'grad','years':4,'intent':'interest'}"
   ]
  },
  {
   "cell_type": "code",
   "execution_count": 8,
   "metadata": {
    "collapsed": false,
    "scrolled": true
   },
   "outputs": [
    {
     "data": {
      "text/plain": [
       "'interest'"
      ]
     },
     "execution_count": 8,
     "metadata": {},
     "output_type": "execute_result"
    }
   ],
   "source": [
    "d['intent']"
   ]
  },
  {
   "cell_type": "markdown",
   "metadata": {},
   "source": [
    "Q1: Make a dictionary"
   ]
  },
  {
   "cell_type": "code",
   "execution_count": 9,
   "metadata": {
    "collapsed": true
   },
   "outputs": [],
   "source": [
    "def isVowel(x):\n",
    "    vowelSet = set(['a','e','i','o','u'])\n",
    "    if x in vowelSet:\n",
    "        return True\n",
    "    else:\n",
    "        return False"
   ]
  },
  {
   "cell_type": "code",
   "execution_count": 11,
   "metadata": {
    "collapsed": false
   },
   "outputs": [
    {
     "data": {
      "text/plain": [
       "True"
      ]
     },
     "execution_count": 11,
     "metadata": {},
     "output_type": "execute_result"
    }
   ],
   "source": [
    "isVowel('a')"
   ]
  },
  {
   "cell_type": "markdown",
   "metadata": {},
   "source": [
    "Q2: Test for Vowel"
   ]
  },
  {
   "cell_type": "code",
   "execution_count": 18,
   "metadata": {
    "collapsed": true
   },
   "outputs": [],
   "source": [
    "def length(x):\n",
    "    if isinstance(x, (list, str)):\n",
    "        length = 0\n",
    "        for i in x:\n",
    "            length += 1\n",
    "        return length\n",
    "    else:\n",
    "        print('Not a list/string!')\n",
    "\n",
    "        "
   ]
  },
  {
   "cell_type": "code",
   "execution_count": 19,
   "metadata": {
    "collapsed": false
   },
   "outputs": [
    {
     "data": {
      "text/plain": [
       "2"
      ]
     },
     "execution_count": 19,
     "metadata": {},
     "output_type": "execute_result"
    }
   ],
   "source": [
    "length([1,2])"
   ]
  },
  {
   "cell_type": "code",
   "execution_count": 20,
   "metadata": {
    "collapsed": false
   },
   "outputs": [
    {
     "data": {
      "text/plain": [
       "3"
      ]
     },
     "execution_count": 20,
     "metadata": {},
     "output_type": "execute_result"
    }
   ],
   "source": [
    "length('qbc')"
   ]
  },
  {
   "cell_type": "code",
   "execution_count": 21,
   "metadata": {
    "collapsed": false
   },
   "outputs": [
    {
     "name": "stdout",
     "output_type": "stream",
     "text": [
      "Not a list/string!\n"
     ]
    }
   ],
   "source": [
    "length(1)"
   ]
  },
  {
   "cell_type": "markdown",
   "metadata": {},
   "source": [
    "Q3: Compute the length of a List or String"
   ]
  },
  {
   "cell_type": "code",
   "execution_count": 25,
   "metadata": {
    "collapsed": true
   },
   "outputs": [],
   "source": [
    "def reverse(arg):\n",
    "    if isinstance(arg,str):\n",
    "        f = ''\n",
    "        for x in arg:\n",
    "            f = x + f\n",
    "        return f\n",
    "    else:\n",
    "        print('#NOT A STRING!')"
   ]
  },
  {
   "cell_type": "code",
   "execution_count": 26,
   "metadata": {
    "collapsed": false
   },
   "outputs": [
    {
     "data": {
      "text/plain": [
       "'dcba'"
      ]
     },
     "execution_count": 26,
     "metadata": {},
     "output_type": "execute_result"
    }
   ],
   "source": [
    "reverse('abcd')"
   ]
  },
  {
   "cell_type": "markdown",
   "metadata": {},
   "source": [
    "Q4: Reverse A String!"
   ]
  },
  {
   "cell_type": "code",
   "execution_count": 49,
   "metadata": {
    "collapsed": false
   },
   "outputs": [],
   "source": [
    "string5 = \"Never odd or even\""
   ]
  },
  {
   "cell_type": "code",
   "execution_count": 50,
   "metadata": {
    "collapsed": false
   },
   "outputs": [
    {
     "data": {
      "text/plain": [
       "True"
      ]
     },
     "execution_count": 50,
     "metadata": {},
     "output_type": "execute_result"
    }
   ],
   "source": [
    "def is_palindrome(arg):\n",
    "    s1 = \"\".join(arg.split()).lower()\n",
    "    s2=reverse(s1)\n",
    "    if s1 == s2:\n",
    "        return True\n",
    "    else:\n",
    "        return False\n",
    "    \n",
    "\n",
    "is_palindrome(\"Never odd or even\")\n",
    "    "
   ]
  },
  {
   "cell_type": "markdown",
   "metadata": {},
   "source": [
    "Q5: Check for palindromes"
   ]
  },
  {
   "cell_type": "code",
   "execution_count": 88,
   "metadata": {
    "collapsed": false
   },
   "outputs": [],
   "source": [
    "f = open('q6.dat')\n",
    "f.seek(0)\n",
    "fnew = open('q6new.dat','w')\n",
    "i = 0\n",
    "for i, line in enumerate(f.readlines()):        \n",
    "    data = line.split()           \n",
    "    if not data: \n",
    "        fnew.write(line)\n",
    "    else:\n",
    "        i += 1\n",
    "        fnew.write(str(i) + \"\\t\"+ line)\n",
    "fnew.close()"
   ]
  },
  {
   "cell_type": "markdown",
   "metadata": {},
   "source": [
    "Q6: Number lines in a text file"
   ]
  },
  {
   "cell_type": "code",
   "execution_count": 93,
   "metadata": {
    "collapsed": true
   },
   "outputs": [],
   "source": [
    "def method1(wordsList):\n",
    "    wordsLength = []\n",
    "    for words in wordsList:\n",
    "        wordsLength.append(len(words))\n",
    "    return wordsLength"
   ]
  },
  {
   "cell_type": "code",
   "execution_count": 94,
   "metadata": {
    "collapsed": false
   },
   "outputs": [
    {
     "data": {
      "text/plain": [
       "[4, 2, 5]"
      ]
     },
     "execution_count": 94,
     "metadata": {},
     "output_type": "execute_result"
    }
   ],
   "source": [
    "method1(['list', 'of', 'words'])"
   ]
  },
  {
   "cell_type": "code",
   "execution_count": 96,
   "metadata": {
    "collapsed": true
   },
   "outputs": [],
   "source": [
    "def method2(wordsList):\n",
    "    return [len(words) for words in wordsList]"
   ]
  },
  {
   "cell_type": "code",
   "execution_count": 97,
   "metadata": {
    "collapsed": false
   },
   "outputs": [
    {
     "data": {
      "text/plain": [
       "[4, 2, 5]"
      ]
     },
     "execution_count": 97,
     "metadata": {},
     "output_type": "execute_result"
    }
   ],
   "source": [
    "method2(['list', 'of', 'words'])"
   ]
  },
  {
   "cell_type": "code",
   "execution_count": 107,
   "metadata": {
    "collapsed": false
   },
   "outputs": [],
   "source": [
    "import math\n",
    "def method3(wordsList):\n",
    "    return list(map(len,wordsList))"
   ]
  },
  {
   "cell_type": "code",
   "execution_count": 109,
   "metadata": {
    "collapsed": false
   },
   "outputs": [
    {
     "data": {
      "text/plain": [
       "[4, 3, 3, 5, 6, 7, 4]"
      ]
     },
     "execution_count": 109,
     "metadata": {},
     "output_type": "execute_result"
    }
   ],
   "source": [
    "names = ['Anne', 'Amy', 'Bob', 'David', 'Carrie', 'Barbara', 'Zach']\n",
    "method3(names)"
   ]
  },
  {
   "cell_type": "markdown",
   "metadata": {},
   "source": [
    "Q7: Convert list of words into list of integers of length of words"
   ]
  },
  {
   "cell_type": "code",
   "execution_count": 115,
   "metadata": {
    "collapsed": true
   },
   "outputs": [],
   "source": [
    "def decoder(x):\n",
    "    key = {'a':'n', 'b':'o', 'c':'p', 'd':'q', 'e':'r', 'f':'s', 'g':'t', 'h':'u', \n",
    "       'i':'v', 'j':'w', 'k':'x', 'l':'y', 'm':'z', 'n':'a', 'o':'b', 'p':'c', \n",
    "       'q':'d', 'r':'e', 's':'f', 't':'g', 'u':'h', 'v':'i', 'w':'j', 'x':'k',\n",
    "       'y':'l', 'z':'m', 'A':'N', 'B':'O', 'C':'P', 'D':'Q', 'E':'R', 'F':'S', \n",
    "       'G':'T', 'H':'U', 'I':'V', 'J':'W', 'K':'X', 'L':'Y', 'M':'Z', 'N':'A', \n",
    "       'O':'B', 'P':'C', 'Q':'D', 'R':'E', 'S':'F', 'T':'G', 'U':'H', 'V':'I', \n",
    "       'W':'J', 'X':'K', 'Y':'L', 'Z':'M'}\n",
    "    xList = list(x)\n",
    "    y = ''\n",
    "    for element in xList:\n",
    "        if element in key:\n",
    "            y += key[element]\n",
    "        else:\n",
    "            y += element\n",
    "    return y\n",
    "            "
   ]
  },
  {
   "cell_type": "code",
   "execution_count": 116,
   "metadata": {
    "collapsed": false
   },
   "outputs": [
    {
     "data": {
      "text/plain": [
       "'Caesar cipher? I much prefer Caesar salad!'"
      ]
     },
     "execution_count": 116,
     "metadata": {},
     "output_type": "execute_result"
    }
   ],
   "source": [
    "decoder('Pnrfne pvcure? V zhpu cersre Pnrfne fnynq!')"
   ]
  },
  {
   "cell_type": "code",
   "execution_count": 117,
   "metadata": {
    "collapsed": false
   },
   "outputs": [
    {
     "data": {
      "text/plain": [
       "'Pnrfne pvcure? V zhpu cersre Pnrfne fnynq!'"
      ]
     },
     "execution_count": 117,
     "metadata": {},
     "output_type": "execute_result"
    }
   ],
   "source": [
    "decoder('Caesar cipher? I much prefer Caesar salad!')\n"
   ]
  },
  {
   "cell_type": "markdown",
   "metadata": {},
   "source": [
    "Q8: Encode and decode using ROT-13"
   ]
  },
  {
   "cell_type": "code",
   "execution_count": 143,
   "metadata": {
    "collapsed": false
   },
   "outputs": [
    {
     "name": "stdout",
     "output_type": "stream",
     "text": [
      "3 bottle of beer on the wall, 3 bottle of beer.\n",
      "Take one down, pass it around, 2 bottles of beer on the wall.\n",
      "\n",
      "2 bottle of beer on the wall, 2 bottle of beer.\n",
      "Take one down, pass it around, 1 bottles of beer on the wall.\n",
      "\n",
      "1 bottle of beer on the wall, 1 bottle of beer.\n",
      "Take one down, pass it around, 0 bottles of beer on the wall.\n",
      "\n"
     ]
    }
   ],
   "source": [
    "def words(num):\n",
    "    \"\"\"Returns words with proper number of beer bottles filled in.\"\"\"\n",
    "    if isinstance(num,int):\n",
    "        if num >= 1:\n",
    "            print(str(num) + ' bottle of beer on the wall, ' + str(num) + ' bottle of beer.')\n",
    "            print('Take one down, pass it around, ' + str(num-1) + ' bottles of beer on the wall.\\n')\n",
    "        else:\n",
    "            print('Must be a POSITIVE INTEGER!')\n",
    "    else:\n",
    "        print('Must be a POSITIVE INTEGER!')\n",
    "for i in range(3):\n",
    "    words(3-i)"
   ]
  },
  {
   "cell_type": "markdown",
   "metadata": {},
   "source": [
    "Q9: Fix the code"
   ]
  },
  {
   "cell_type": "code",
   "execution_count": 308,
   "metadata": {
    "collapsed": false
   },
   "outputs": [
    {
     "name": "stdout",
     "output_type": "stream",
     "text": [
      "2006-05-20 01:34:55\n",
      "2006-05-20 01:35:10\n",
      "2006-05-20 01:35:25\n",
      "2006-05-20 01:35:40\n",
      "2006-05-20 01:35:55\n",
      "2006-05-20 01:36:10\n",
      "2006-05-20 01:36:25\n",
      "2006-05-20 01:36:40\n",
      "2006-05-20 01:36:55\n",
      "2006-05-20 01:37:10\n",
      "2006-05-20 01:37:25\n",
      "2006-05-20 01:37:40\n",
      "2006-05-20 01:37:55\n",
      "2006-05-20 01:38:10\n",
      "2006-05-20 01:38:25\n",
      "2006-05-20 01:38:40\n",
      "2006-05-20 01:38:55\n",
      "2006-05-20 01:39:10\n",
      "2006-05-20 01:39:25\n",
      "2006-05-20 01:39:40\n",
      "2006-05-20 01:39:55\n",
      "2006-05-20 01:40:10\n",
      "2006-05-20 01:40:25\n",
      "2006-05-20 01:40:40\n",
      "2006-05-20 01:40:55\n",
      "2006-05-20 01:41:10\n",
      "2006-05-20 01:41:25\n",
      "2006-05-20 01:41:40\n",
      "2006-05-20 01:41:55\n",
      "2006-05-20 01:42:10\n",
      "2006-05-20 01:42:25\n",
      "2006-05-20 01:42:40\n",
      "2006-05-20 01:42:55\n",
      "2006-05-20 01:43:10\n",
      "2006-05-20 01:43:25\n",
      "2006-05-20 01:43:40\n",
      "2006-05-20 01:43:55\n",
      "2006-05-20 01:44:10\n",
      "2006-05-20 01:44:25\n",
      "2006-05-20 01:44:40\n",
      "2006-05-20 01:44:55\n",
      "2006-05-20 01:45:10\n",
      "2006-05-20 01:45:25\n",
      "2006-05-20 01:45:40\n",
      "2006-05-20 01:45:55\n",
      "2006-05-20 01:46:10\n",
      "2006-05-20 01:46:25\n",
      "2006-05-20 01:46:40\n",
      "2006-05-20 01:46:55\n",
      "2006-05-20 01:47:10\n",
      "2006-05-20 01:47:25\n",
      "2006-05-20 01:47:40\n",
      "2006-05-20 01:47:55\n",
      "2006-05-20 01:48:10\n",
      "2006-05-20 01:48:25\n",
      "2006-05-20 01:48:40\n",
      "2006-05-20 01:48:55\n",
      "2006-05-20 01:49:10\n",
      "2006-05-20 01:49:25\n",
      "2006-05-20 01:49:40\n",
      "2006-05-20 01:49:56\n",
      "2006-05-20 01:50:11\n",
      "2006-05-20 01:50:26\n",
      "2006-05-20 01:50:42\n",
      "2006-05-20 01:50:57\n",
      "2006-05-20 01:51:12\n",
      "2006-05-20 01:51:27\n",
      "2006-05-20 01:51:42\n",
      "2006-05-20 01:51:57\n",
      "2006-05-20 01:52:12\n",
      "2006-05-20 01:52:27\n",
      "2006-05-20 01:52:42\n",
      "2006-05-20 01:52:57\n",
      "2006-05-20 01:53:12\n",
      "2006-05-20 01:53:27\n",
      "2006-05-20 01:53:42\n",
      "2006-05-20 01:53:57\n",
      "2006-05-20 01:54:12\n",
      "2006-05-20 01:54:27\n",
      "2006-05-20 01:54:42\n",
      "2006-05-20 01:54:57\n",
      "2006-05-20 01:55:12\n",
      "2006-05-20 01:55:27\n",
      "2006-05-20 01:55:42\n",
      "2006-05-20 01:55:57\n",
      "2006-05-20 01:56:12\n",
      "2006-05-20 01:56:27\n",
      "2006-05-20 01:56:42\n",
      "2006-05-20 01:56:57\n",
      "2006-05-20 01:57:12\n",
      "2006-05-20 01:57:27\n",
      "2006-05-20 01:57:42\n",
      "2006-05-20 01:57:57\n",
      "2006-05-20 01:58:12\n",
      "2006-05-20 01:58:27\n",
      "2006-05-20 01:58:42\n",
      "2006-05-20 01:58:57\n",
      "2006-05-20 01:59:12\n",
      "2006-05-20 01:59:27\n",
      "2006-05-20 01:59:42\n",
      "2006-05-20 01:59:57\n",
      "2006-05-20 02:00:12\n",
      "2006-05-20 02:00:27\n",
      "2006-05-20 02:00:42\n",
      "2006-05-20 02:00:57\n",
      "2006-05-20 02:01:12\n",
      "2006-05-20 02:01:27\n",
      "2006-05-20 02:01:42\n",
      "2006-05-20 02:01:57\n",
      "2006-05-20 02:02:12\n",
      "2006-05-20 02:02:27\n",
      "2006-05-20 02:02:42\n",
      "2006-05-20 02:02:57\n",
      "2006-05-20 02:03:12\n",
      "2006-05-20 02:03:27\n",
      "2006-05-20 02:03:42\n",
      "2006-05-20 02:03:57\n",
      "2006-05-20 02:04:12\n",
      "2006-05-20 02:04:27\n",
      "2006-05-20 02:04:42\n",
      "2006-05-20 02:04:57\n",
      "2006-05-20 02:05:12\n",
      "2006-05-20 02:05:27\n",
      "2006-05-20 02:05:42\n",
      "2006-05-20 02:05:57\n",
      "2006-05-20 02:06:12\n",
      "2006-05-20 02:06:27\n",
      "2006-05-20 02:06:42\n",
      "2006-05-20 02:06:57\n",
      "2006-05-20 02:07:12\n",
      "2006-05-20 02:07:27\n",
      "2006-05-20 02:07:42\n",
      "2006-05-20 02:07:57\n",
      "2006-05-20 02:08:12\n",
      "2006-05-20 02:08:27\n",
      "2006-05-20 02:08:42\n",
      "2006-05-20 02:08:57\n",
      "2006-05-20 02:09:12\n",
      "2006-05-20 02:09:27\n",
      "2006-05-20 02:09:42\n",
      "2006-05-20 02:09:57\n",
      "2006-05-20 02:10:12\n",
      "2006-05-20 02:10:27\n",
      "2006-05-20 02:10:42\n",
      "2006-05-20 02:10:57\n",
      "2006-05-20 02:11:12\n",
      "2006-05-20 02:11:27\n",
      "2006-05-20 02:11:42\n",
      "2006-05-20 02:11:57\n",
      "2006-05-20 02:12:12\n",
      "2006-05-20 02:12:27\n",
      "2006-05-20 02:12:42\n",
      "2006-05-20 02:12:57\n",
      "2006-05-20 02:13:12\n",
      "2006-05-20 02:13:27\n",
      "2006-05-20 02:13:42\n",
      "2006-05-20 02:13:57\n",
      "2006-05-20 02:14:12\n",
      "2006-05-20 02:14:27\n",
      "2006-05-20 02:14:42\n",
      "2006-05-20 02:14:57\n",
      "2006-05-20 02:15:12\n",
      "2006-05-20 02:15:27\n",
      "2006-05-20 02:15:42\n",
      "2006-05-20 02:15:57\n",
      "2006-05-20 02:16:12\n",
      "2006-05-20 02:16:27\n",
      "2006-05-20 02:16:42\n",
      "2006-05-20 02:16:57\n",
      "2006-05-20 02:17:12\n",
      "2006-05-20 02:17:27\n",
      "2006-05-20 02:17:42\n",
      "2006-05-20 02:17:57\n",
      "2006-05-20 02:18:12\n",
      "2006-05-20 02:18:27\n",
      "2006-05-20 02:18:42\n",
      "2006-05-20 02:18:57\n",
      "2006-05-20 02:19:12\n",
      "2006-05-20 02:19:27\n",
      "2006-05-20 02:19:42\n",
      "2006-05-20 02:19:57\n",
      "2006-05-20 02:20:12\n",
      "2006-05-20 02:20:27\n",
      "2006-05-20 02:20:42\n",
      "2006-05-20 02:20:57\n",
      "2006-05-20 02:21:12\n",
      "2006-05-20 02:21:27\n",
      "2006-05-20 02:21:42\n",
      "2006-05-20 02:21:57\n",
      "2006-05-20 02:22:12\n",
      "2006-05-20 02:22:27\n",
      "2006-05-20 02:22:42\n",
      "2006-05-20 02:22:57\n",
      "2006-05-20 02:23:13\n",
      "2006-05-20 02:23:28\n",
      "2006-05-20 02:23:43\n",
      "2006-05-20 02:23:58\n",
      "2006-05-20 02:24:13\n",
      "2006-05-20 02:24:28\n",
      "2006-05-20 02:24:43\n",
      "2006-05-20 02:24:58\n",
      "2006-05-20 02:25:13\n",
      "2006-05-20 02:25:28\n",
      "2006-05-20 02:25:43\n",
      "2006-05-20 02:25:58\n",
      "2006-05-20 02:26:13\n",
      "2006-05-20 02:26:28\n",
      "2006-05-20 02:26:43\n",
      "2006-05-20 02:26:58\n",
      "2006-05-20 02:27:13\n",
      "2006-05-20 02:27:28\n",
      "2006-05-20 02:27:43\n",
      "2006-05-20 02:27:58\n",
      "2006-05-20 02:28:13\n",
      "2006-05-20 02:28:28\n",
      "2006-05-20 02:28:43\n",
      "2006-05-20 02:28:58\n",
      "2006-05-20 02:29:13\n",
      "2006-05-20 02:29:28\n",
      "2006-05-20 02:29:43\n",
      "2006-05-20 02:29:58\n",
      "2006-05-20 02:30:13\n",
      "2006-05-20 02:30:28\n",
      "2006-05-20 02:30:43\n",
      "2006-05-20 02:30:58\n",
      "2006-05-20 02:31:13\n",
      "2006-05-20 02:31:28\n",
      "2006-05-20 02:31:43\n",
      "2006-05-20 02:31:58\n",
      "2006-05-20 02:32:13\n",
      "2006-05-20 02:32:28\n",
      "2006-05-20 02:32:43\n",
      "2006-05-20 02:32:58\n",
      "2006-05-20 02:33:13\n",
      "2006-05-20 02:33:28\n",
      "2006-05-20 02:33:43\n",
      "2006-05-20 02:33:58\n",
      "2006-05-20 02:34:13\n",
      "2006-05-20 02:34:28\n",
      "2006-05-20 02:34:43\n",
      "2006-05-20 02:34:58\n",
      "2006-05-20 02:35:13\n",
      "2006-05-20 02:35:28\n",
      "2006-05-20 02:35:43\n",
      "2006-05-20 02:35:58\n",
      "2006-05-20 02:36:13\n",
      "2006-05-20 02:36:28\n",
      "2006-05-20 02:36:43\n",
      "2006-05-20 02:36:58\n",
      "2006-05-20 02:37:13\n",
      "2006-05-20 02:37:28\n",
      "2006-05-20 02:37:43\n",
      "2006-05-20 02:37:58\n",
      "2006-05-20 02:38:13\n",
      "2006-05-20 02:38:28\n",
      "2006-05-20 02:38:43\n",
      "2006-05-20 02:38:58\n",
      "2006-05-20 02:39:14\n",
      "2006-05-20 02:39:29\n",
      "2006-05-20 02:39:44\n",
      "2006-05-20 02:39:59\n",
      "2006-05-20 02:40:14\n",
      "2006-05-20 02:40:29\n",
      "2006-05-20 02:40:44\n",
      "2006-05-20 02:40:59\n",
      "2006-05-20 02:41:14\n",
      "2006-05-20 02:41:29\n",
      "2006-05-20 02:41:44\n",
      "2006-05-20 02:41:59\n",
      "2006-05-20 02:42:15\n",
      "2006-05-20 02:42:30\n",
      "2006-05-20 02:42:45\n",
      "2006-05-20 02:43:00\n",
      "2006-05-20 02:43:15\n",
      "2006-05-20 02:43:30\n",
      "2006-05-20 02:43:45\n",
      "2006-05-20 02:44:00\n",
      "2006-05-20 02:44:15\n",
      "2006-05-20 02:44:30\n",
      "2006-05-20 02:44:45\n",
      "2006-05-20 02:45:00\n",
      "2006-05-20 02:45:15\n",
      "2006-05-20 02:45:30\n",
      "2006-05-20 02:45:45\n",
      "2006-05-20 02:46:00\n",
      "2006-05-20 02:46:15\n",
      "2006-05-20 02:46:30\n",
      "2006-05-20 02:46:45\n",
      "2006-05-20 02:47:00\n",
      "2006-05-20 02:47:15\n",
      "2006-05-20 02:47:30\n",
      "2006-05-20 02:47:45\n",
      "2006-05-20 02:48:00\n",
      "2006-05-20 02:48:15\n",
      "2006-05-20 02:48:30\n",
      "2006-05-20 02:48:45\n",
      "2006-05-20 02:49:00\n",
      "2006-05-20 02:49:15\n",
      "2006-05-20 02:49:30\n",
      "2006-05-20 02:49:45\n",
      "2006-05-20 02:50:00\n",
      "2006-05-20 02:50:15\n",
      "2006-05-20 02:50:30\n",
      "2006-05-20 02:50:45\n",
      "2006-05-20 02:51:00\n",
      "2006-05-20 02:51:15\n",
      "2006-05-20 02:51:30\n",
      "2006-05-20 02:51:45\n",
      "2006-05-20 02:52:00\n",
      "2006-05-20 02:52:15\n",
      "2006-05-20 02:52:30\n",
      "2006-05-20 02:52:45\n",
      "2006-05-20 02:53:01\n",
      "2006-05-20 02:53:16\n",
      "2006-05-20 02:53:31\n",
      "2006-05-20 02:53:46\n",
      "2006-05-20 02:54:01\n",
      "2006-05-20 02:54:16\n",
      "2006-05-20 02:54:31\n",
      "2006-05-20 02:54:46\n",
      "2006-05-20 02:55:01\n",
      "2006-05-20 02:55:16\n",
      "2006-05-20 02:55:31\n",
      "2006-05-20 02:55:46\n",
      "2006-05-20 02:56:01\n",
      "2006-05-20 02:56:16\n",
      "2006-05-20 02:56:31\n",
      "2006-05-20 02:56:46\n",
      "2006-05-20 02:57:01\n",
      "2006-05-20 02:57:16\n",
      "2006-05-20 02:57:31\n",
      "2006-05-20 02:57:46\n",
      "2006-05-20 02:58:01\n",
      "2006-05-20 02:58:16\n",
      "2006-05-20 02:58:31\n",
      "2006-05-20 02:58:46\n",
      "2006-05-20 02:59:01\n",
      "2006-05-20 02:59:16\n",
      "2006-05-20 02:59:31\n",
      "2006-05-20 02:59:46\n",
      "2006-05-20 03:00:01\n",
      "2006-05-20 03:00:16\n",
      "2006-05-20 03:00:31\n",
      "2006-05-20 03:00:46\n",
      "2006-05-20 03:01:01\n",
      "2006-05-20 03:01:16\n",
      "2006-05-20 03:01:31\n",
      "2006-05-20 03:01:46\n",
      "2006-05-20 03:02:01\n",
      "2006-05-20 03:02:16\n",
      "2006-05-20 03:02:31\n",
      "2006-05-20 03:02:46\n",
      "2006-05-20 03:03:01\n",
      "2006-05-20 03:03:16\n",
      "2006-05-20 03:03:31\n",
      "2006-05-20 03:03:46\n",
      "2006-05-20 03:04:01\n",
      "2006-05-20 03:04:16\n",
      "2006-05-20 03:04:31\n",
      "2006-05-20 03:04:46\n",
      "2006-05-20 03:05:01\n",
      "2006-05-20 03:05:16\n",
      "2006-05-20 03:05:31\n",
      "2006-05-20 03:05:46\n",
      "2006-05-20 03:06:01\n",
      "2006-05-20 03:06:16\n",
      "2006-05-20 03:06:31\n",
      "2006-05-20 03:06:46\n",
      "2006-05-20 03:07:01\n",
      "2006-05-20 03:07:16\n",
      "2006-05-20 03:07:31\n",
      "2006-05-20 03:07:46\n",
      "2006-05-20 03:08:01\n",
      "2006-05-20 03:08:16\n",
      "2006-05-20 03:08:31\n",
      "2006-05-20 03:08:46\n",
      "2006-05-20 03:09:01\n",
      "2006-05-20 03:09:16\n",
      "2006-05-20 03:09:31\n",
      "2006-05-20 03:09:46\n",
      "2006-05-20 03:10:01\n",
      "2006-05-20 03:10:16\n",
      "2006-05-20 03:10:31\n",
      "2006-05-20 03:10:46\n",
      "2006-05-20 03:11:01\n",
      "2006-05-20 03:11:16\n",
      "2006-05-20 03:11:31\n",
      "2006-05-20 03:11:46\n",
      "2006-05-20 03:12:01\n",
      "2006-05-20 03:12:16\n",
      "2006-05-20 03:12:31\n",
      "2006-05-20 03:12:46\n",
      "2006-05-20 03:13:01\n",
      "2006-05-20 03:13:16\n",
      "2006-05-20 03:13:31\n",
      "2006-05-20 03:13:46\n",
      "2006-05-20 03:14:01\n",
      "2006-05-20 03:14:16\n",
      "2006-05-20 03:14:31\n",
      "2006-05-20 03:14:46\n",
      "2006-05-20 03:15:01\n",
      "2006-05-20 03:15:16\n",
      "2006-05-20 03:15:31\n",
      "2006-05-20 03:15:46\n",
      "2006-05-20 03:16:01\n",
      "2006-05-20 03:16:16\n",
      "2006-05-20 03:16:31\n",
      "2006-05-20 03:16:46\n",
      "2006-05-20 03:17:01\n",
      "2006-05-20 03:17:16\n",
      "2006-05-20 03:17:31\n",
      "2006-05-20 03:17:46\n",
      "2006-05-20 03:18:01\n",
      "2006-05-20 03:18:16\n",
      "2006-05-20 03:18:31\n",
      "2006-05-20 03:18:46\n",
      "2006-05-20 03:19:01\n",
      "2006-05-20 03:19:16\n",
      "2006-05-20 03:19:31\n",
      "2006-05-20 03:19:46\n",
      "2006-05-20 03:20:01\n",
      "2006-05-20 03:20:16\n",
      "2006-05-20 03:20:31\n",
      "2006-05-20 03:20:46\n",
      "2006-05-20 03:21:01\n",
      "2006-05-20 03:21:16\n",
      "2006-05-20 03:21:31\n",
      "2006-05-20 03:21:46\n",
      "2006-05-20 03:22:01\n",
      "2006-05-20 03:22:16\n",
      "2006-05-20 03:22:31\n",
      "2006-05-20 03:22:46\n",
      "2006-05-20 03:23:01\n",
      "2006-05-20 03:23:16\n",
      "2006-05-20 03:23:31\n",
      "2006-05-20 03:23:46\n",
      "2006-05-20 03:24:01\n",
      "2006-05-20 03:24:16\n",
      "2006-05-20 03:24:31\n",
      "2006-05-20 03:24:46\n",
      "2006-05-20 03:25:01\n",
      "2006-05-20 03:25:16\n",
      "2006-05-20 03:25:31\n",
      "2006-05-20 03:25:46\n",
      "2006-05-20 03:26:01\n",
      "2006-05-20 03:26:16\n",
      "2006-05-20 03:26:31\n",
      "2006-05-20 03:26:46\n",
      "2006-05-20 03:27:01\n",
      "2006-05-20 03:27:16\n",
      "2006-05-20 03:27:31\n",
      "2006-05-20 03:27:46\n",
      "2006-05-20 03:28:01\n",
      "2006-05-20 03:28:16\n",
      "2006-05-20 03:28:32\n",
      "2006-05-20 03:28:47\n",
      "2006-05-20 03:29:02\n",
      "2006-05-20 03:29:17\n",
      "2006-05-20 03:29:32\n",
      "2006-05-20 03:29:47\n",
      "2006-05-20 03:30:02\n",
      "2006-05-20 03:30:17\n",
      "2006-05-20 03:30:32\n",
      "2006-05-20 03:30:47\n",
      "2006-05-20 03:31:02\n",
      "2006-05-20 03:31:17\n",
      "2006-05-20 03:31:32\n",
      "2006-05-20 03:31:47\n",
      "2006-05-20 03:31:48\n"
     ]
    }
   ],
   "source": [
    "from datetime import datetime\n",
    "\n",
    "f = open('./GPS.dat')\n",
    "dtformat = \"%m/%d/%Y %H:%M:%S\"\n",
    "emptyNum = 0\n",
    "emptyEnd = 10000\n",
    "for line in f:\n",
    "    if line == '\\n':\n",
    "        emptyNum += 1\n",
    "        #print('SPACE LINE')\n",
    "    #print(line.split())\n",
    "    if 'ACTIVE LOG' in line:\n",
    "        emptyEnd = emptyNum +3 \n",
    "    data = line.split()\n",
    "    if not data: continue \n",
    "    if data[0] == 'Trackpoint' and emptyNum < emptyEnd:\n",
    "        dateStr = data[5] + \" \" + data[6]\n",
    "        print(datetime.strptime(dateStr,dtformat))\n",
    "\n"
   ]
  },
  {
   "cell_type": "code",
   "execution_count": 412,
   "metadata": {
    "collapsed": false,
    "scrolled": true
   },
   "outputs": [
    {
     "name": "stdout",
     "output_type": "stream",
     "text": [
      "ACTIVE LOG\n",
      "LEGOLAS\n",
      "MERIADOC\n",
      "SAMWISE\n",
      "STRIDER\n",
      "ACTIVE LOG\n",
      "LEGOLAS\n",
      "MERIADOC\n",
      "SAMWISE\n",
      "STRIDER\n"
     ]
    },
    {
     "data": {
      "text/plain": [
       "['0.76 mph',\n",
       " '1.4 mph',\n",
       " '1.7 mph',\n",
       " '1.6 mph',\n",
       " '2.9 mph',\n",
       " '2.0 mph',\n",
       " '1.6 mph',\n",
       " '1.8 mph',\n",
       " '2.7 mph',\n",
       " '3.4 mph',\n",
       " '3.7 mph',\n",
       " '2.9 mph',\n",
       " '3.4 mph',\n",
       " '4.7 mph',\n",
       " '4.4 mph',\n",
       " '4.3 mph',\n",
       " '4.3 mph',\n",
       " '4.9 mph',\n",
       " '4.8 mph',\n",
       " '4.8 mph',\n",
       " '5.2 mph',\n",
       " '5.2 mph',\n",
       " '4.8 mph',\n",
       " '4.9 mph',\n",
       " '5.0 mph',\n",
       " '4.7 mph',\n",
       " '4.9 mph',\n",
       " '4.7 mph',\n",
       " '5.0 mph',\n",
       " '4.7 mph',\n",
       " '4.7 mph',\n",
       " '4.7 mph',\n",
       " '4.7 mph',\n",
       " '4.5 mph',\n",
       " '4.3 mph',\n",
       " '4.9 mph',\n",
       " '4.6 mph',\n",
       " '4.7 mph',\n",
       " '4.4 mph',\n",
       " '4.5 mph',\n",
       " '4.9 mph',\n",
       " '4.7 mph',\n",
       " '4.2 mph',\n",
       " '4.6 mph',\n",
       " '4.7 mph',\n",
       " '4.5 mph',\n",
       " '4.7 mph',\n",
       " '4.7 mph',\n",
       " '4.7 mph',\n",
       " '4.7 mph',\n",
       " '4.5 mph',\n",
       " '4.4 mph',\n",
       " '4.4 mph',\n",
       " '4.8 mph',\n",
       " '4.4 mph',\n",
       " '4.7 mph',\n",
       " '4.5 mph',\n",
       " '4.5 mph',\n",
       " '4.5 mph',\n",
       " '4.7 mph',\n",
       " '4.4 mph',\n",
       " '4.4 mph',\n",
       " '4.6 mph',\n",
       " '4.5 mph',\n",
       " '4.6 mph',\n",
       " '4.9 mph',\n",
       " '4.4 mph',\n",
       " '4.4 mph',\n",
       " '4.4 mph',\n",
       " '4.5 mph',\n",
       " '4.5 mph',\n",
       " '4.6 mph',\n",
       " '4.5 mph',\n",
       " '4.6 mph',\n",
       " '4.7 mph',\n",
       " '4.0 mph',\n",
       " '4.3 mph',\n",
       " '4.4 mph',\n",
       " '4.8 mph',\n",
       " '4.9 mph',\n",
       " '4.2 mph',\n",
       " '4.5 mph',\n",
       " '4.6 mph',\n",
       " '4.4 mph',\n",
       " '4.9 mph',\n",
       " '4.7 mph',\n",
       " '4.5 mph',\n",
       " '4.7 mph',\n",
       " '4.4 mph',\n",
       " '5.0 mph',\n",
       " '5.2 mph',\n",
       " '5.0 mph',\n",
       " '5.2 mph',\n",
       " '4.7 mph',\n",
       " '5.3 mph',\n",
       " '5.2 mph',\n",
       " '5.1 mph',\n",
       " '5.1 mph',\n",
       " '4.7 mph',\n",
       " '5.0 mph',\n",
       " '4.4 mph',\n",
       " '4.5 mph',\n",
       " '4.3 mph',\n",
       " '4.5 mph',\n",
       " '4.8 mph',\n",
       " '4.2 mph',\n",
       " '4.4 mph',\n",
       " '4.5 mph',\n",
       " '4.4 mph',\n",
       " '4.5 mph',\n",
       " '4.5 mph',\n",
       " '4.7 mph',\n",
       " '4.7 mph',\n",
       " '5.1 mph',\n",
       " '4.4 mph',\n",
       " '4.7 mph',\n",
       " '4.5 mph',\n",
       " '4.5 mph',\n",
       " '4.5 mph',\n",
       " '4.7 mph',\n",
       " '4.3 mph',\n",
       " '4.5 mph',\n",
       " '4.5 mph',\n",
       " '4.5 mph',\n",
       " '4.7 mph',\n",
       " '4.7 mph',\n",
       " '4.8 mph',\n",
       " '4.5 mph',\n",
       " '4.9 mph',\n",
       " '4.5 mph',\n",
       " '4.5 mph',\n",
       " '4.6 mph',\n",
       " '4.6 mph',\n",
       " '4.2 mph',\n",
       " '4.3 mph',\n",
       " '4.6 mph',\n",
       " '3.9 mph',\n",
       " '1.8 mph',\n",
       " '1.4 mph',\n",
       " '2.9 mph',\n",
       " '2.7 mph',\n",
       " '3.4 mph',\n",
       " '4.4 mph',\n",
       " '4.4 mph',\n",
       " '2.6 mph',\n",
       " '1.9 mph',\n",
       " '2.8 mph',\n",
       " '2.1 mph',\n",
       " '1.4 mph',\n",
       " '2.3 mph',\n",
       " '1.3 mph',\n",
       " '0.86 mph',\n",
       " '0.86 mph',\n",
       " '1.4 mph',\n",
       " '1.4 mph',\n",
       " '1.3 mph',\n",
       " '1.6 mph',\n",
       " '1.6 mph',\n",
       " '1.6 mph',\n",
       " '1.8 mph',\n",
       " '1.6 mph',\n",
       " '1.6 mph',\n",
       " '1.6 mph',\n",
       " '1.6 mph',\n",
       " '1.6 mph',\n",
       " '1.3 mph',\n",
       " '1.4 mph',\n",
       " '1.6 mph',\n",
       " '1.3 mph',\n",
       " '1.6 mph',\n",
       " '1.4 mph',\n",
       " '1.6 mph',\n",
       " '1.3 mph',\n",
       " '1.6 mph',\n",
       " '1.3 mph',\n",
       " '1.3 mph',\n",
       " '1.0 mph',\n",
       " '1.6 mph',\n",
       " '1.3 mph',\n",
       " '1.4 mph',\n",
       " '1.3 mph',\n",
       " '1.6 mph',\n",
       " '1.4 mph',\n",
       " '1.3 mph',\n",
       " '1.3 mph',\n",
       " '1.3 mph',\n",
       " '1.3 mph',\n",
       " '1.4 mph',\n",
       " '1.3 mph',\n",
       " '1.3 mph',\n",
       " '1.6 mph',\n",
       " '1.3 mph',\n",
       " '1.5 mph',\n",
       " '1.3 mph',\n",
       " '1.4 mph',\n",
       " '1.4 mph',\n",
       " '3.0 mph',\n",
       " '3.1 mph',\n",
       " '3.1 mph',\n",
       " '3.9 mph',\n",
       " '4.8 mph',\n",
       " '4.9 mph',\n",
       " '4.8 mph',\n",
       " '4.8 mph',\n",
       " '4.8 mph',\n",
       " '5.1 mph',\n",
       " '4.9 mph',\n",
       " '4.5 mph',\n",
       " '4.2 mph',\n",
       " '3.0 mph',\n",
       " '2.2 mph',\n",
       " '1.3 mph',\n",
       " '1.4 mph',\n",
       " '1.6 mph',\n",
       " '1.6 mph',\n",
       " '1.4 mph',\n",
       " '1.6 mph',\n",
       " '1.6 mph',\n",
       " '1.6 mph',\n",
       " '1.6 mph',\n",
       " '1.9 mph',\n",
       " '1.6 mph',\n",
       " '1.6 mph',\n",
       " '1.9 mph',\n",
       " '1.5 mph',\n",
       " '1.9 mph',\n",
       " '1.7 mph',\n",
       " '1.6 mph',\n",
       " '1.9 mph',\n",
       " '1.7 mph',\n",
       " '1.9 mph',\n",
       " '1.6 mph',\n",
       " '1.6 mph',\n",
       " '1.7 mph',\n",
       " '1.3 mph',\n",
       " '1.9 mph',\n",
       " '1.4 mph',\n",
       " '1.6 mph',\n",
       " '1.6 mph',\n",
       " '1.6 mph',\n",
       " '1.6 mph',\n",
       " '1.6 mph',\n",
       " '1.6 mph',\n",
       " '1.6 mph',\n",
       " '1.8 mph',\n",
       " '1.6 mph',\n",
       " '1.6 mph',\n",
       " '1.4 mph',\n",
       " '1.4 mph',\n",
       " '1.6 mph',\n",
       " '1.4 mph',\n",
       " '1.6 mph',\n",
       " '1.7 mph',\n",
       " '1.4 mph',\n",
       " '1.6 mph',\n",
       " '1.6 mph',\n",
       " '1.5 mph',\n",
       " '1.4 mph',\n",
       " '1.6 mph',\n",
       " '1.6 mph',\n",
       " '1.6 mph',\n",
       " '1.6 mph',\n",
       " '1.4 mph',\n",
       " '1.9 mph',\n",
       " '1.4 mph',\n",
       " '1.6 mph',\n",
       " '1.6 mph',\n",
       " '1.6 mph',\n",
       " '1.7 mph',\n",
       " '1.6 mph',\n",
       " '1.4 mph',\n",
       " '1.6 mph',\n",
       " '1.7 mph',\n",
       " '1.6 mph',\n",
       " '1.6 mph',\n",
       " '1.7 mph',\n",
       " '1.9 mph',\n",
       " '1.4 mph',\n",
       " '1.6 mph',\n",
       " '1.6 mph',\n",
       " '1.4 mph',\n",
       " '1.4 mph',\n",
       " '1.4 mph',\n",
       " '1.4 mph',\n",
       " '1.1 mph',\n",
       " '1.1 mph',\n",
       " '1.3 mph',\n",
       " '1.4 mph',\n",
       " '1.1 mph',\n",
       " '1.4 mph',\n",
       " '1.4 mph',\n",
       " '1.4 mph',\n",
       " '1.4 mph',\n",
       " '1.5 mph',\n",
       " '1.4 mph',\n",
       " '1.4 mph',\n",
       " '1.4 mph',\n",
       " '1.3 mph',\n",
       " '1.4 mph',\n",
       " '1.6 mph',\n",
       " '1.4 mph',\n",
       " '1.4 mph',\n",
       " '1.4 mph',\n",
       " '1.4 mph',\n",
       " '1.4 mph',\n",
       " '1.5 mph',\n",
       " '1.4 mph',\n",
       " '1.1 mph',\n",
       " '1.4 mph',\n",
       " '1.0 mph',\n",
       " '1.4 mph',\n",
       " '1.4 mph',\n",
       " '1.3 mph',\n",
       " '1.1 mph',\n",
       " '1.4 mph',\n",
       " '1.1 mph',\n",
       " '1.4 mph',\n",
       " '1.1 mph',\n",
       " '1.3 mph',\n",
       " '1.1 mph',\n",
       " '1.5 mph',\n",
       " '1.4 mph',\n",
       " '1.4 mph',\n",
       " '1.4 mph',\n",
       " '1.4 mph',\n",
       " '1.1 mph',\n",
       " '1.4 mph',\n",
       " '1.4 mph',\n",
       " '1.4 mph',\n",
       " '1.4 mph',\n",
       " '1.1 mph',\n",
       " '1.5 mph',\n",
       " '1.1 mph',\n",
       " '1.4 mph',\n",
       " '1.1 mph',\n",
       " '1.4 mph',\n",
       " '1.1 mph',\n",
       " '1.4 mph',\n",
       " '1.4 mph',\n",
       " '1.3 mph',\n",
       " '1.4 mph',\n",
       " '1.1 mph',\n",
       " '1.4 mph',\n",
       " '1.1 mph',\n",
       " '1.4 mph',\n",
       " '1.0 mph',\n",
       " '1.5 mph',\n",
       " '1.4 mph',\n",
       " '1.4 mph',\n",
       " '1.1 mph',\n",
       " '1.1 mph',\n",
       " '1.1 mph',\n",
       " '1.1 mph',\n",
       " '1.4 mph',\n",
       " '1.1 mph',\n",
       " '1.4 mph',\n",
       " '1.1 mph',\n",
       " '1.5 mph',\n",
       " '1.4 mph',\n",
       " '1.4 mph',\n",
       " '1.1 mph',\n",
       " '1.4 mph',\n",
       " '1.1 mph',\n",
       " '1.4 mph',\n",
       " '1.4 mph',\n",
       " '1.1 mph',\n",
       " '1.4 mph',\n",
       " '1.1 mph',\n",
       " '1.5 mph',\n",
       " '1.1 mph',\n",
       " '1.4 mph',\n",
       " '1.4 mph',\n",
       " '1.1 mph',\n",
       " '1.5 mph',\n",
       " '1.4 mph',\n",
       " '1.1 mph',\n",
       " '1.4 mph',\n",
       " '1.1 mph',\n",
       " '1.1 mph',\n",
       " '1.4 mph',\n",
       " '1.1 mph',\n",
       " '1.4 mph',\n",
       " '1.5 mph',\n",
       " '1.1 mph',\n",
       " '1.1 mph',\n",
       " '1.4 mph',\n",
       " '1.4 mph',\n",
       " '1.5 mph',\n",
       " '1.1 mph',\n",
       " '1.4 mph',\n",
       " '1.4 mph',\n",
       " '1.4 mph',\n",
       " '1.5 mph',\n",
       " '1.1 mph',\n",
       " '1.4 mph',\n",
       " '1.4 mph',\n",
       " '1.5 mph',\n",
       " '1.4 mph',\n",
       " '1.1 mph',\n",
       " '1.4 mph',\n",
       " '1.5 mph',\n",
       " '1.4 mph',\n",
       " '1.4 mph',\n",
       " '1.1 mph',\n",
       " '1.5 mph',\n",
       " '1.4 mph',\n",
       " '1.4 mph',\n",
       " '1.1 mph',\n",
       " '1.4 mph',\n",
       " '1.4 mph',\n",
       " '1.1 mph',\n",
       " '1.1 mph',\n",
       " '1.4 mph',\n",
       " '1.3 mph',\n",
       " '1.4 mph',\n",
       " '1.1 mph',\n",
       " '1.4 mph',\n",
       " '1.1 mph',\n",
       " '1.1 mph',\n",
       " '1.1 mph',\n",
       " '1.4 mph',\n",
       " '1.1 mph',\n",
       " '1.4 mph',\n",
       " '1.1 mph',\n",
       " '1.1 mph',\n",
       " '1.1 mph',\n",
       " '1.1 mph',\n",
       " '1.1 mph',\n",
       " '1.4 mph',\n",
       " '1.1 mph',\n",
       " '1.1 mph',\n",
       " '1.5 mph',\n",
       " '1.1 mph',\n",
       " '1.4 mph',\n",
       " '1.1 mph',\n",
       " '1.1 mph',\n",
       " '1.4 mph',\n",
       " '1.1 mph',\n",
       " '1.1 mph',\n",
       " '1.4 mph',\n",
       " '1.1 mph',\n",
       " '1.4 mph',\n",
       " '1.1 mph',\n",
       " '1.1 mph',\n",
       " '1.5 mph',\n",
       " '1.4 mph',\n",
       " '1.1 mph',\n",
       " '1.1 mph',\n",
       " '1.4 mph',\n",
       " '1.3 mph',\n",
       " '1.1 mph',\n",
       " '1.6 mph',\n",
       " '2.4 mph',\n",
       " '2.8 mph',\n",
       " '2.5 mph',\n",
       " '1.9 mph',\n",
       " '2.4 mph',\n",
       " '3.9 mph',\n",
       " '4.7 mph',\n",
       " '5.0 mph',\n",
       " '4.8 mph',\n",
       " '5.1 mph',\n",
       " '4.8 mph',\n",
       " '4.7 mph',\n",
       " '5.0 mph',\n",
       " '5.0 mph',\n",
       " '5.0 mph',\n",
       " '6.6 mph']"
      ]
     },
     "execution_count": 412,
     "metadata": {},
     "output_type": "execute_result"
    }
   ],
   "source": [
    "from datetime import datetime\n",
    "\n",
    "f = open('./GPS.dat')\n",
    "nameKey = []\n",
    "for line in f: \n",
    "    data = line.split('\\t')\n",
    "    if 'Track' in data:\n",
    "        print(data[1])\n",
    "        nameKey.append(data[1])\n",
    "        \n",
    "def generateValueList(nKey):\n",
    "    emptyNum = 0\n",
    "    emptyEnd = 10000\n",
    "    latitude = []\n",
    "    longitude = []\n",
    "    speed = []\n",
    "    f = open('./GPS.dat')\n",
    "    for line in f:\n",
    "        if line == '\\n':\n",
    "            emptyNum += 1\n",
    "        data = line.split('\\t')\n",
    "        if nKey in line:\n",
    "            emptyEnd = emptyNum +3 \n",
    "        if not data: continue \n",
    "        if data[0] == 'Trackpoint' and emptyNum < emptyEnd:\n",
    "            gpsStr = data            \n",
    "            if 'mph' in line:\n",
    "                #print(gpsStr[7].split())\n",
    "                speed.append(gpsStr[7])\n",
    "            if 'N' in line and 'W' in line:\n",
    "                location = gpsStr[1].split()\n",
    "                latitude.append(location[0] +\" \"+ location[1])\n",
    "                longitude.append(location[2] +\" \"+ location[3])\n",
    "                #print(location)             \n",
    "    return latitude, longitude, speed\n",
    "          \n",
    "gps = {}\n",
    "for name in nameKey:\n",
    "    print(name)\n",
    "    gps[name] = {}\n",
    "    latitude, longitude, speed = generateValueList(name)\n",
    "    #print(latitude)\n",
    "    gps[name]['latitude'] = latitude\n",
    "    gps[name]['longitude'] = longitude\n",
    "    gps[name]['speed'] = speed\n",
    "    \n",
    "gpsDict['SAMWISE']['speed']\n",
    "    "
   ]
  },
  {
   "cell_type": "markdown",
   "metadata": {},
   "source": [
    "Q10: Reading in and parsing a file"
   ]
  },
  {
   "cell_type": "code",
   "execution_count": 214,
   "metadata": {
    "collapsed": false
   },
   "outputs": [],
   "source": [
    "def taylorSin(x, num):\n",
    "    if isinstance(num,int) and num >= 0:\n",
    "        weight = x\n",
    "        taylorSum = x\n",
    "        for k in range(1,num):\n",
    "            weight *= (-1) /(2*k* (1 + 2*k)) * x * x\n",
    "            taylorSum += weight\n",
    "    return taylorSum\n",
    "        \n",
    "        "
   ]
  },
  {
   "cell_type": "code",
   "execution_count": 217,
   "metadata": {
    "collapsed": false,
    "scrolled": true
   },
   "outputs": [
    {
     "name": "stdout",
     "output_type": "stream",
     "text": [
      "0.020574461395796995\n",
      "0.020574461395796995\n",
      "-0.0002588719375363202\n",
      "1.5447291303316568e-06\n",
      "-5.370075994992618e-09\n",
      "1.2212897360086572e-11\n",
      "-1.9595436384634013e-14\n",
      "0.0\n",
      "0.0\n",
      "0.0\n"
     ]
    }
   ],
   "source": [
    "for i in range(10):\n",
    "    print(taylorSin(0.5,i)-math.sin(0.5))"
   ]
  },
  {
   "cell_type": "markdown",
   "metadata": {},
   "source": [
    "Q11:(Grad) Constructing terms in a Taylor series to approximate a function"
   ]
  }
 ],
 "metadata": {
  "kernelspec": {
   "display_name": "Python 3",
   "language": "python",
   "name": "python3"
  },
  "language_info": {
   "codemirror_mode": {
    "name": "ipython",
    "version": 3
   },
   "file_extension": ".py",
   "mimetype": "text/x-python",
   "name": "python",
   "nbconvert_exporter": "python",
   "pygments_lexer": "ipython3",
   "version": "3.5.0"
  }
 },
 "nbformat": 4,
 "nbformat_minor": 0
}
